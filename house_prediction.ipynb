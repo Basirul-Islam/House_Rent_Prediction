{
 "cells": [
  {
   "cell_type": "code",
   "execution_count": 1,
   "outputs": [],
   "source": [
    "import pandas as pd\n",
    "import matplotlib.pyplot as plt\n",
    "from sklearn import linear_model"
   ],
   "metadata": {
    "collapsed": false,
    "pycharm": {
     "name": "#%%\n"
    }
   }
  },
  {
   "cell_type": "code",
   "execution_count": 2,
   "outputs": [
    {
     "name": "stdout",
     "output_type": "stream",
     "text": [
      "Dimension of dataset=  (1104, 6)\n"
     ]
    },
    {
     "data": {
      "text/plain": "   Type  Floor Size(SQFT)  Number of Rooms  Number of Bathroom  Cluster Label  \\\n0     1               900                2                   2              1   \n1     1               900                2                   2              1   \n2     1              1610                3                   4              1   \n3     1               950                2                   2              1   \n4     1              1250                3                   3              5   \n\n   Amount(BDT)  \n0        19000  \n1        19000  \n2        50000  \n3        20000  \n4        20000  ",
      "text/html": "<div>\n<style scoped>\n    .dataframe tbody tr th:only-of-type {\n        vertical-align: middle;\n    }\n\n    .dataframe tbody tr th {\n        vertical-align: top;\n    }\n\n    .dataframe thead th {\n        text-align: right;\n    }\n</style>\n<table border=\"1\" class=\"dataframe\">\n  <thead>\n    <tr style=\"text-align: right;\">\n      <th></th>\n      <th>Type</th>\n      <th>Floor Size(SQFT)</th>\n      <th>Number of Rooms</th>\n      <th>Number of Bathroom</th>\n      <th>Cluster Label</th>\n      <th>Amount(BDT)</th>\n    </tr>\n  </thead>\n  <tbody>\n    <tr>\n      <th>0</th>\n      <td>1</td>\n      <td>900</td>\n      <td>2</td>\n      <td>2</td>\n      <td>1</td>\n      <td>19000</td>\n    </tr>\n    <tr>\n      <th>1</th>\n      <td>1</td>\n      <td>900</td>\n      <td>2</td>\n      <td>2</td>\n      <td>1</td>\n      <td>19000</td>\n    </tr>\n    <tr>\n      <th>2</th>\n      <td>1</td>\n      <td>1610</td>\n      <td>3</td>\n      <td>4</td>\n      <td>1</td>\n      <td>50000</td>\n    </tr>\n    <tr>\n      <th>3</th>\n      <td>1</td>\n      <td>950</td>\n      <td>2</td>\n      <td>2</td>\n      <td>1</td>\n      <td>20000</td>\n    </tr>\n    <tr>\n      <th>4</th>\n      <td>1</td>\n      <td>1250</td>\n      <td>3</td>\n      <td>3</td>\n      <td>5</td>\n      <td>20000</td>\n    </tr>\n  </tbody>\n</table>\n</div>"
     },
     "execution_count": 2,
     "metadata": {},
     "output_type": "execute_result"
    }
   ],
   "source": [
    "df = pd.read_csv('final_processed_ml_dataset.csv')\n",
    "print('Dimension of dataset= ', df.shape)\n",
    "df.head() # To get first n rows from the dataset default value of n is 5"
   ],
   "metadata": {
    "collapsed": false,
    "pycharm": {
     "name": "#%%\n"
    }
   }
  },
  {
   "cell_type": "code",
   "execution_count": 3,
   "outputs": [],
   "source": [
    "# df = pd.read_csv('test_ml_dataset.csv')\n",
    "# print('Dimension of dataset= ', df.shape)\n",
    "# df.head() # To get first n rows from the dataset default value of n is 5"
   ],
   "metadata": {
    "collapsed": false,
    "pycharm": {
     "name": "#%%\n"
    }
   }
  },
  {
   "cell_type": "code",
   "execution_count": 4,
   "outputs": [
    {
     "name": "stdout",
     "output_type": "stream",
     "text": [
      "         Type  Floor Size(SQFT)  Number of Rooms  Number of Bathroom  \\\n",
      "count  1104.0       1104.000000      1104.000000         1104.000000   \n",
      "mean      1.0       1652.146739         2.951087            2.967391   \n",
      "std       0.0       1267.155717         1.131178            0.988981   \n",
      "min       1.0        300.000000         1.000000            0.000000   \n",
      "25%       1.0       1031.250000         3.000000            2.000000   \n",
      "50%       1.0       1400.000000         3.000000            3.000000   \n",
      "75%       1.0       2000.000000         3.000000            3.000000   \n",
      "max       1.0      25900.000000        21.000000           10.000000   \n",
      "\n",
      "       Cluster Label   Amount(BDT)  \n",
      "count    1104.000000  1.104000e+03  \n",
      "mean        3.890399  4.792518e+04  \n",
      "std         2.953821  8.869862e+04  \n",
      "min         0.000000  8.000000e+03  \n",
      "25%         1.000000  1.800000e+04  \n",
      "50%         3.000000  2.800000e+04  \n",
      "75%         6.000000  5.062500e+04  \n",
      "max         9.000000  2.100000e+06  \n"
     ]
    }
   ],
   "source": [
    "print(df.describe())"
   ],
   "metadata": {
    "collapsed": false,
    "pycharm": {
     "name": "#%%\n"
    }
   }
  },
  {
   "cell_type": "code",
   "execution_count": 5,
   "outputs": [
    {
     "name": "stdout",
     "output_type": "stream",
     "text": [
      "Total no of training examples (m) = 1104 \n",
      "\n",
      "X = [  1 900   2   2   1] , y = 19000\n",
      "X = [  1 900   2   2   1] , y = 19000\n",
      "X = [   1 1610    3    4    1] , y = 50000\n",
      "X = [  1 950   2   2   1] , y = 20000\n",
      "X = [   1 1250    3    3    5] , y = 20000\n"
     ]
    }
   ],
   "source": [
    "X = df.values[:, 0:5]  # get input values from first two columns\n",
    "y = df.values[:, 5]  # get output values from last coulmn\n",
    "m = len(y) # Number of training examples\n",
    "\n",
    "print('Total no of training examples (m) = %s \\n' %(m))\n",
    "\n",
    "# Show only first 5 records\n",
    "for i in range(5):\n",
    "    print('X =', X[i, ], ', y =', y[i])"
   ],
   "metadata": {
    "collapsed": false,
    "pycharm": {
     "name": "#%%\n"
    }
   }
  },
  {
   "cell_type": "code",
   "execution_count": 6,
   "outputs": [],
   "source": [
    "from sklearn.model_selection import train_test_split\n",
    "seed = 77\n",
    "X_train, X_test, y_train, y_test = train_test_split(X, y, test_size=0.10, random_state=seed)"
   ],
   "metadata": {
    "collapsed": false,
    "pycharm": {
     "name": "#%%\n"
    }
   }
  },
  {
   "cell_type": "code",
   "execution_count": 7,
   "outputs": [
    {
     "name": "stderr",
     "output_type": "stream",
     "text": [
      "D:\\Projects\\House_rent_prediction\\venv\\Scripts\\env\\lib\\site-packages\\sklearn\\linear_model\\_base.py:141: FutureWarning: 'normalize' was deprecated in version 1.0 and will be removed in 1.2.\n",
      "If you wish to scale the data, use Pipeline with a StandardScaler in a preprocessing stage. To reproduce the previous behavior:\n",
      "\n",
      "from sklearn.pipeline import make_pipeline\n",
      "\n",
      "model = make_pipeline(StandardScaler(with_mean=False), LinearRegression())\n",
      "\n",
      "If you wish to pass a sample_weight parameter, you need to pass it as a fit parameter to each step of the pipeline as follows:\n",
      "\n",
      "kwargs = {s[0] + '__sample_weight': sample_weight for s in model.steps}\n",
      "model.fit(X, y, **kwargs)\n",
      "\n",
      "\n",
      "  warnings.warn(\n"
     ]
    },
    {
     "data": {
      "text/plain": "LinearRegression(normalize=True)",
      "text/html": "<style>#sk-container-id-1 {color: black;background-color: white;}#sk-container-id-1 pre{padding: 0;}#sk-container-id-1 div.sk-toggleable {background-color: white;}#sk-container-id-1 label.sk-toggleable__label {cursor: pointer;display: block;width: 100%;margin-bottom: 0;padding: 0.3em;box-sizing: border-box;text-align: center;}#sk-container-id-1 label.sk-toggleable__label-arrow:before {content: \"▸\";float: left;margin-right: 0.25em;color: #696969;}#sk-container-id-1 label.sk-toggleable__label-arrow:hover:before {color: black;}#sk-container-id-1 div.sk-estimator:hover label.sk-toggleable__label-arrow:before {color: black;}#sk-container-id-1 div.sk-toggleable__content {max-height: 0;max-width: 0;overflow: hidden;text-align: left;background-color: #f0f8ff;}#sk-container-id-1 div.sk-toggleable__content pre {margin: 0.2em;color: black;border-radius: 0.25em;background-color: #f0f8ff;}#sk-container-id-1 input.sk-toggleable__control:checked~div.sk-toggleable__content {max-height: 200px;max-width: 100%;overflow: auto;}#sk-container-id-1 input.sk-toggleable__control:checked~label.sk-toggleable__label-arrow:before {content: \"▾\";}#sk-container-id-1 div.sk-estimator input.sk-toggleable__control:checked~label.sk-toggleable__label {background-color: #d4ebff;}#sk-container-id-1 div.sk-label input.sk-toggleable__control:checked~label.sk-toggleable__label {background-color: #d4ebff;}#sk-container-id-1 input.sk-hidden--visually {border: 0;clip: rect(1px 1px 1px 1px);clip: rect(1px, 1px, 1px, 1px);height: 1px;margin: -1px;overflow: hidden;padding: 0;position: absolute;width: 1px;}#sk-container-id-1 div.sk-estimator {font-family: monospace;background-color: #f0f8ff;border: 1px dotted black;border-radius: 0.25em;box-sizing: border-box;margin-bottom: 0.5em;}#sk-container-id-1 div.sk-estimator:hover {background-color: #d4ebff;}#sk-container-id-1 div.sk-parallel-item::after {content: \"\";width: 100%;border-bottom: 1px solid gray;flex-grow: 1;}#sk-container-id-1 div.sk-label:hover label.sk-toggleable__label {background-color: #d4ebff;}#sk-container-id-1 div.sk-serial::before {content: \"\";position: absolute;border-left: 1px solid gray;box-sizing: border-box;top: 0;bottom: 0;left: 50%;z-index: 0;}#sk-container-id-1 div.sk-serial {display: flex;flex-direction: column;align-items: center;background-color: white;padding-right: 0.2em;padding-left: 0.2em;position: relative;}#sk-container-id-1 div.sk-item {position: relative;z-index: 1;}#sk-container-id-1 div.sk-parallel {display: flex;align-items: stretch;justify-content: center;background-color: white;position: relative;}#sk-container-id-1 div.sk-item::before, #sk-container-id-1 div.sk-parallel-item::before {content: \"\";position: absolute;border-left: 1px solid gray;box-sizing: border-box;top: 0;bottom: 0;left: 50%;z-index: -1;}#sk-container-id-1 div.sk-parallel-item {display: flex;flex-direction: column;z-index: 1;position: relative;background-color: white;}#sk-container-id-1 div.sk-parallel-item:first-child::after {align-self: flex-end;width: 50%;}#sk-container-id-1 div.sk-parallel-item:last-child::after {align-self: flex-start;width: 50%;}#sk-container-id-1 div.sk-parallel-item:only-child::after {width: 0;}#sk-container-id-1 div.sk-dashed-wrapped {border: 1px dashed gray;margin: 0 0.4em 0.5em 0.4em;box-sizing: border-box;padding-bottom: 0.4em;background-color: white;}#sk-container-id-1 div.sk-label label {font-family: monospace;font-weight: bold;display: inline-block;line-height: 1.2em;}#sk-container-id-1 div.sk-label-container {text-align: center;}#sk-container-id-1 div.sk-container {/* jupyter's `normalize.less` sets `[hidden] { display: none; }` but bootstrap.min.css set `[hidden] { display: none !important; }` so we also need the `!important` here to be able to override the default hidden behavior on the sphinx rendered scikit-learn.org. See: https://github.com/scikit-learn/scikit-learn/issues/21755 */display: inline-block !important;position: relative;}#sk-container-id-1 div.sk-text-repr-fallback {display: none;}</style><div id=\"sk-container-id-1\" class=\"sk-top-container\"><div class=\"sk-text-repr-fallback\"><pre>LinearRegression(normalize=True)</pre><b>In a Jupyter environment, please rerun this cell to show the HTML representation or trust the notebook. <br />On GitHub, the HTML representation is unable to render, please try loading this page with nbviewer.org.</b></div><div class=\"sk-container\" hidden><div class=\"sk-item\"><div class=\"sk-estimator sk-toggleable\"><input class=\"sk-toggleable__control sk-hidden--visually\" id=\"sk-estimator-id-1\" type=\"checkbox\" checked><label for=\"sk-estimator-id-1\" class=\"sk-toggleable__label sk-toggleable__label-arrow\">LinearRegression</label><div class=\"sk-toggleable__content\"><pre>LinearRegression(normalize=True)</pre></div></div></div></div></div>"
     },
     "execution_count": 7,
     "metadata": {},
     "output_type": "execute_result"
    }
   ],
   "source": [
    "model_ols =  linear_model.LinearRegression(normalize=True)\n",
    "model_ols.fit(X_train,y_train)\n",
    "#model_ols.fit(X,y)\n",
    "# fit() method is used for training the model\n",
    "# Note the first parameter(feature) is must be 2D array(feature matrix)"
   ],
   "metadata": {
    "collapsed": false,
    "pycharm": {
     "name": "#%%\n"
    }
   }
  },
  {
   "cell_type": "code",
   "execution_count": 8,
   "outputs": [],
   "source": [
    "#LinearRegression(copy_X=True, fit_intercept=True, n_jobs=None, normalize=True)"
   ],
   "metadata": {
    "collapsed": false,
    "pycharm": {
     "name": "#%%\n"
    }
   }
  },
  {
   "cell_type": "code",
   "execution_count": 9,
   "outputs": [
    {
     "name": "stdout",
     "output_type": "stream",
     "text": [
      "coef=  [     0.             75.74182407   1482.8975883  -24857.05470487\n",
      "    184.1476333 ]\n",
      "intercept=  -8206.26371773857\n"
     ]
    }
   ],
   "source": [
    "coef = model_ols.coef_\n",
    "intercept = model_ols.intercept_\n",
    "print('coef= ', coef)\n",
    "print('intercept= ', intercept)"
   ],
   "metadata": {
    "collapsed": false,
    "pycharm": {
     "name": "#%%\n"
    }
   }
  },
  {
   "cell_type": "code",
   "execution_count": 10,
   "outputs": [],
   "source": [
    "predicted_rent = pd.DataFrame(model_ols.predict(X_test), columns=['Predicted Rent'])\n",
    "actual_rent = pd.DataFrame(y_test)"
   ],
   "metadata": {
    "collapsed": false,
    "pycharm": {
     "name": "#%%\n"
    }
   }
  },
  {
   "cell_type": "code",
   "execution_count": 11,
   "outputs": [
    {
     "data": {
      "text/plain": "                          0             1             2             3    \\\nActual Rent     107000.000000  75000.000000  21500.000000  18000.000000   \nPredicted Rent  176649.008616  96245.755567  10715.005944  27139.870583   \n\n                         4              5             6             7    \\\nActual Rent     30000.000000   55000.000000  30000.000000  25000.000000   \nPredicted Rent  35468.148675  104556.528508  40728.420946  27893.966268   \n\n                         8             9    ...           101            102  \\\nActual Rent     33000.000000  20000.000000  ...  11000.000000  305000.000000   \nPredicted Rent  22708.958115   9425.972511  ...  -5169.949403  350981.840038   \n\n                         103           104           105           106  \\\nActual Rent     25000.000000  60000.000000  18000.000000  20000.000000   \nPredicted Rent  -6462.058007  55872.040781  13850.487253  13482.191987   \n\n                         107           108           109          110  \nActual Rent     35000.000000  24000.000000  80000.000000  17000.00000  \nPredicted Rent  13298.044353  32417.648005  50800.661123  14218.78252  \n\n[2 rows x 111 columns]",
      "text/html": "<div>\n<style scoped>\n    .dataframe tbody tr th:only-of-type {\n        vertical-align: middle;\n    }\n\n    .dataframe tbody tr th {\n        vertical-align: top;\n    }\n\n    .dataframe thead th {\n        text-align: right;\n    }\n</style>\n<table border=\"1\" class=\"dataframe\">\n  <thead>\n    <tr style=\"text-align: right;\">\n      <th></th>\n      <th>0</th>\n      <th>1</th>\n      <th>2</th>\n      <th>3</th>\n      <th>4</th>\n      <th>5</th>\n      <th>6</th>\n      <th>7</th>\n      <th>8</th>\n      <th>9</th>\n      <th>...</th>\n      <th>101</th>\n      <th>102</th>\n      <th>103</th>\n      <th>104</th>\n      <th>105</th>\n      <th>106</th>\n      <th>107</th>\n      <th>108</th>\n      <th>109</th>\n      <th>110</th>\n    </tr>\n  </thead>\n  <tbody>\n    <tr>\n      <th>Actual Rent</th>\n      <td>107000.000000</td>\n      <td>75000.000000</td>\n      <td>21500.000000</td>\n      <td>18000.000000</td>\n      <td>30000.000000</td>\n      <td>55000.000000</td>\n      <td>30000.000000</td>\n      <td>25000.000000</td>\n      <td>33000.000000</td>\n      <td>20000.000000</td>\n      <td>...</td>\n      <td>11000.000000</td>\n      <td>305000.000000</td>\n      <td>25000.000000</td>\n      <td>60000.000000</td>\n      <td>18000.000000</td>\n      <td>20000.000000</td>\n      <td>35000.000000</td>\n      <td>24000.000000</td>\n      <td>80000.000000</td>\n      <td>17000.00000</td>\n    </tr>\n    <tr>\n      <th>Predicted Rent</th>\n      <td>176649.008616</td>\n      <td>96245.755567</td>\n      <td>10715.005944</td>\n      <td>27139.870583</td>\n      <td>35468.148675</td>\n      <td>104556.528508</td>\n      <td>40728.420946</td>\n      <td>27893.966268</td>\n      <td>22708.958115</td>\n      <td>9425.972511</td>\n      <td>...</td>\n      <td>-5169.949403</td>\n      <td>350981.840038</td>\n      <td>-6462.058007</td>\n      <td>55872.040781</td>\n      <td>13850.487253</td>\n      <td>13482.191987</td>\n      <td>13298.044353</td>\n      <td>32417.648005</td>\n      <td>50800.661123</td>\n      <td>14218.78252</td>\n    </tr>\n  </tbody>\n</table>\n<p>2 rows × 111 columns</p>\n</div>"
     },
     "execution_count": 11,
     "metadata": {},
     "output_type": "execute_result"
    }
   ],
   "source": [
    "predictedPrice = pd.DataFrame(model_ols.predict(X_test), columns=['Predicted Rent'])\n",
    "# Create new dataframe of column'Predicted Price'\n",
    "actualPrice = pd.DataFrame(y_test, columns=['Actual Rent'])\n",
    "actualPrice = actualPrice.reset_index(drop=True)\n",
    "# Drop the index so that we can concat it, to create new dataframe\n",
    "df_actual_vs_predicted = pd.concat([actualPrice,predictedPrice],axis =1)\n",
    "df_actual_vs_predicted.T"
   ],
   "metadata": {
    "collapsed": false,
    "pycharm": {
     "name": "#%%\n"
    }
   }
  },
  {
   "cell_type": "code",
   "execution_count": 12,
   "outputs": [
    {
     "data": {
      "text/plain": "<Figure size 640x480 with 1 Axes>",
      "image/png": "[encoded data removed]"
     },
     "metadata": {},
     "output_type": "display_data"
    }
   ],
   "source": [
    "plt.scatter(y_test, model_ols.predict(X_test))\n",
    "plt.xlabel('House Rent From Dataset')\n",
    "plt.ylabel('House Rent Predicted By Model')\n",
    "plt.rcParams[\"figure.figsize\"] = (10,6) # Custom figure size in inches\n",
    "plt.title(\"House Rent From Dataset Vs House Rent Predicted By Model\")\n",
    "plt.grid()\n",
    "plt.xlim(100, 150000)\n",
    "plt.ylim(100, 150000)\n",
    "plt.show()"
   ],
   "metadata": {
    "collapsed": false,
    "pycharm": {
     "name": "#%%\n"
    }
   }
  },
  {
   "cell_type": "code",
   "execution_count": 13,
   "outputs": [
    {
     "name": "stdout",
     "output_type": "stream",
     "text": [
      "Mean absolute error = 18624.23\n",
      "Mean squared error = 752520573.47\n",
      "Median absolute error = 12312.76\n",
      "Explain variance score = 0.7\n",
      "R2 score = 0.69\n"
     ]
    }
   ],
   "source": [
    "import sklearn.metrics as sm\n",
    "y_test_pred = model_ols.predict(X_test)\n",
    "print(\"Mean absolute error =\", round(sm.mean_absolute_error(y_test, y_test_pred), 2))\n",
    "print(\"Mean squared error =\", round(sm.mean_squared_error(y_test, y_test_pred), 2))\n",
    "print(\"Median absolute error =\", round(sm.median_absolute_error(y_test, y_test_pred), 2))\n",
    "print(\"Explain variance score =\", round(sm.explained_variance_score(y_test, y_test_pred), 2))\n",
    "print(\"R2 score =\", round(sm.r2_score(y_test, y_test_pred), 2))\n",
    "#print(model_ols.predict(X_test))"
   ],
   "metadata": {
    "collapsed": false,
    "pycharm": {
     "name": "#%%\n"
    }
   }
  },
  {
   "cell_type": "code",
   "execution_count": 14,
   "outputs": [
    {
     "name": "stdout",
     "output_type": "stream",
     "text": [
      "coef:  [     0.             75.74182407   1482.8975883  -24857.05470487\n",
      "    184.1476333 ]\n",
      "intercept:  -8206.26371773857\n",
      "Predicted rent:  13397.211348202123 Actual Rent:  19000\n"
     ]
    }
   ],
   "source": [
    "'''Type,Lat,Lon,Floor_Size,Number_of_Rooms,Number_of_Bathroom'''\n",
    "# create a model using coef and intercept\n",
    "def calc(coef, intercept, input):\n",
    "    print('coef: ', coef)\n",
    "    print('intercept: ', intercept)\n",
    "    pred = 0\n",
    "    for i in range (len(coef)):\n",
    "        pred = pred + coef[i]*input[i]\n",
    "    pred =  pred + intercept\n",
    "    return pred\n",
    "\n",
    "#print(calc(model_ols.coef_, model_ols.intercept_, [1,23.874777,90.388188,900,2,2]))\n",
    "print(\"Predicted rent: \", calc(model_ols.coef_, model_ols.intercept_, [1,900,2,2,1]), \"Actual Rent: \", '19000')"
   ],
   "metadata": {
    "collapsed": false,
    "pycharm": {
     "name": "#%%\n"
    }
   }
  }
 ],
 "metadata": {
  "kernelspec": {
   "display_name": "Python 3",
   "language": "python",
   "name": "python3"
  },
  "language_info": {
   "codemirror_mode": {
    "name": "ipython",
    "version": 2
   },
   "file_extension": ".py",
   "mimetype": "text/x-python",
   "name": "python",
   "nbconvert_exporter": "python",
   "pygments_lexer": "ipython2",
   "version": "2.7.6"
  }
 },
 "nbformat": 4,
 "nbformat_minor": 0
}
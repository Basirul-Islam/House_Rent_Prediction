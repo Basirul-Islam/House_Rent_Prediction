{
 "cells": [
  {
   "cell_type": "code",
   "execution_count": 68,
   "metadata": {
    "collapsed": true,
    "pycharm": {
     "name": "#%%\n"
    }
   },
   "outputs": [],
   "source": [
    "import numpy as np\n",
    "import pandas as pd\n",
    "import matplotlib.pyplot as plt\n",
    "from sklearn import linear_model"
   ]
  },
  {
   "cell_type": "code",
   "execution_count": 69,
   "outputs": [
    {
     "name": "stdout",
     "output_type": "stream",
     "text": [
      "Dimension of dataset=  (1105, 7)\n"
     ]
    },
    {
     "data": {
      "text/plain": "   Type        Lat        Lon  Floor Size(SQFT)  Number of Rooms  \\\n0     1  24.782145  80.415916               398                4   \n1     1  23.874777  90.388188               900                2   \n2     1  23.874777  90.388188               900                2   \n3     1  23.871732  90.397145              1610                3   \n4     1  23.874777  90.388188               950                2   \n\n   Number of Bathroom  Amount(BDT)  \n0                   6        80000  \n1                   2        19000  \n2                   2        19000  \n3                   4        50000  \n4                   2        20000  ",
      "text/html": "<div>\n<style scoped>\n    .dataframe tbody tr th:only-of-type {\n        vertical-align: middle;\n    }\n\n    .dataframe tbody tr th {\n        vertical-align: top;\n    }\n\n    .dataframe thead th {\n        text-align: right;\n    }\n</style>\n<table border=\"1\" class=\"dataframe\">\n  <thead>\n    <tr style=\"text-align: right;\">\n      <th></th>\n      <th>Type</th>\n      <th>Lat</th>\n      <th>Lon</th>\n      <th>Floor Size(SQFT)</th>\n      <th>Number of Rooms</th>\n      <th>Number of Bathroom</th>\n      <th>Amount(BDT)</th>\n    </tr>\n  </thead>\n  <tbody>\n    <tr>\n      <th>0</th>\n      <td>1</td>\n      <td>24.782145</td>\n      <td>80.415916</td>\n      <td>398</td>\n      <td>4</td>\n      <td>6</td>\n      <td>80000</td>\n    </tr>\n    <tr>\n      <th>1</th>\n      <td>1</td>\n      <td>23.874777</td>\n      <td>90.388188</td>\n      <td>900</td>\n      <td>2</td>\n      <td>2</td>\n      <td>19000</td>\n    </tr>\n    <tr>\n      <th>2</th>\n      <td>1</td>\n      <td>23.874777</td>\n      <td>90.388188</td>\n      <td>900</td>\n      <td>2</td>\n      <td>2</td>\n      <td>19000</td>\n    </tr>\n    <tr>\n      <th>3</th>\n      <td>1</td>\n      <td>23.871732</td>\n      <td>90.397145</td>\n      <td>1610</td>\n      <td>3</td>\n      <td>4</td>\n      <td>50000</td>\n    </tr>\n    <tr>\n      <th>4</th>\n      <td>1</td>\n      <td>23.874777</td>\n      <td>90.388188</td>\n      <td>950</td>\n      <td>2</td>\n      <td>2</td>\n      <td>20000</td>\n    </tr>\n  </tbody>\n</table>\n</div>"
     },
     "execution_count": 69,
     "metadata": {},
     "output_type": "execute_result"
    }
   ],
   "source": [
    "\n",
    "df = pd.read_csv('processed_ml_dataset.csv')\n",
    "print('Dimension of dataset= ', df.shape)\n",
    "df.head() # To get first n rows from the dataset default value of n is 5"
   ],
   "metadata": {
    "collapsed": false,
    "pycharm": {
     "name": "#%%\n"
    }
   }
  },
  {
   "cell_type": "code",
   "execution_count": 70,
   "outputs": [
    {
     "name": "stdout",
     "output_type": "stream",
     "text": [
      "Total no of training examples (m) = 1105 \n",
      "\n",
      "X = [  1.        24.782145  80.415916 398.         4.         6.      ] , y = 80000.0\n",
      "X = [  1.        23.874777  90.388188 900.         2.         2.      ] , y = 19000.0\n",
      "X = [  1.        23.874777  90.388188 900.         2.         2.      ] , y = 19000.0\n",
      "X = [1.0000000e+00 2.3871732e+01 9.0397145e+01 1.6100000e+03 3.0000000e+00\n",
      " 4.0000000e+00] , y = 50000.0\n",
      "X = [  1.        23.874777  90.388188 950.         2.         2.      ] , y = 20000.0\n"
     ]
    }
   ],
   "source": [
    "X = df.values[:, 0:6]  # get input values from first two columns\n",
    "y = df.values[:, 6]  # get output values from last coulmn\n",
    "m = len(y) # Number of training examples\n",
    "\n",
    "print('Total no of training examples (m) = %s \\n' %(m))\n",
    "\n",
    "# Show only first 5 records\n",
    "for i in range(5):\n",
    "    print('X =', X[i, ], ', y =', y[i])"
   ],
   "metadata": {
    "collapsed": false,
    "pycharm": {
     "name": "#%%\n"
    }
   }
  },
  {
   "cell_type": "code",
   "execution_count": 71,
   "outputs": [],
   "source": [
    "from sklearn.model_selection import train_test_split\n",
    "seed = 77\n",
    "X_train, X_test, y_train, y_test = train_test_split(X, y, test_size=0.10, random_state=seed)"
   ],
   "metadata": {
    "collapsed": false,
    "pycharm": {
     "name": "#%%\n"
    }
   }
  },
  {
   "cell_type": "code",
   "execution_count": 72,
   "outputs": [
    {
     "name": "stderr",
     "output_type": "stream",
     "text": [
      "D:\\Projects\\House_rent_prediction\\venv\\Scripts\\env\\lib\\site-packages\\sklearn\\linear_model\\_base.py:141: FutureWarning: 'normalize' was deprecated in version 1.0 and will be removed in 1.2.\n",
      "If you wish to scale the data, use Pipeline with a StandardScaler in a preprocessing stage. To reproduce the previous behavior:\n",
      "\n",
      "from sklearn.pipeline import make_pipeline\n",
      "\n",
      "model = make_pipeline(StandardScaler(with_mean=False), LinearRegression())\n",
      "\n",
      "If you wish to pass a sample_weight parameter, you need to pass it as a fit parameter to each step of the pipeline as follows:\n",
      "\n",
      "kwargs = {s[0] + '__sample_weight': sample_weight for s in model.steps}\n",
      "model.fit(X, y, **kwargs)\n",
      "\n",
      "\n",
      "  warnings.warn(\n"
     ]
    },
    {
     "data": {
      "text/plain": "LinearRegression(normalize=True)",
      "text/html": "<style>#sk-container-id-5 {color: black;background-color: white;}#sk-container-id-5 pre{padding: 0;}#sk-container-id-5 div.sk-toggleable {background-color: white;}#sk-container-id-5 label.sk-toggleable__label {cursor: pointer;display: block;width: 100%;margin-bottom: 0;padding: 0.3em;box-sizing: border-box;text-align: center;}#sk-container-id-5 label.sk-toggleable__label-arrow:before {content: \"▸\";float: left;margin-right: 0.25em;color: #696969;}#sk-container-id-5 label.sk-toggleable__label-arrow:hover:before {color: black;}#sk-container-id-5 div.sk-estimator:hover label.sk-toggleable__label-arrow:before {color: black;}#sk-container-id-5 div.sk-toggleable__content {max-height: 0;max-width: 0;overflow: hidden;text-align: left;background-color: #f0f8ff;}#sk-container-id-5 div.sk-toggleable__content pre {margin: 0.2em;color: black;border-radius: 0.25em;background-color: #f0f8ff;}#sk-container-id-5 input.sk-toggleable__control:checked~div.sk-toggleable__content {max-height: 200px;max-width: 100%;overflow: auto;}#sk-container-id-5 input.sk-toggleable__control:checked~label.sk-toggleable__label-arrow:before {content: \"▾\";}#sk-container-id-5 div.sk-estimator input.sk-toggleable__control:checked~label.sk-toggleable__label {background-color: #d4ebff;}#sk-container-id-5 div.sk-label input.sk-toggleable__control:checked~label.sk-toggleable__label {background-color: #d4ebff;}#sk-container-id-5 input.sk-hidden--visually {border: 0;clip: rect(1px 1px 1px 1px);clip: rect(1px, 1px, 1px, 1px);height: 1px;margin: -1px;overflow: hidden;padding: 0;position: absolute;width: 1px;}#sk-container-id-5 div.sk-estimator {font-family: monospace;background-color: #f0f8ff;border: 1px dotted black;border-radius: 0.25em;box-sizing: border-box;margin-bottom: 0.5em;}#sk-container-id-5 div.sk-estimator:hover {background-color: #d4ebff;}#sk-container-id-5 div.sk-parallel-item::after {content: \"\";width: 100%;border-bottom: 1px solid gray;flex-grow: 1;}#sk-container-id-5 div.sk-label:hover label.sk-toggleable__label {background-color: #d4ebff;}#sk-container-id-5 div.sk-serial::before {content: \"\";position: absolute;border-left: 1px solid gray;box-sizing: border-box;top: 0;bottom: 0;left: 50%;z-index: 0;}#sk-container-id-5 div.sk-serial {display: flex;flex-direction: column;align-items: center;background-color: white;padding-right: 0.2em;padding-left: 0.2em;position: relative;}#sk-container-id-5 div.sk-item {position: relative;z-index: 1;}#sk-container-id-5 div.sk-parallel {display: flex;align-items: stretch;justify-content: center;background-color: white;position: relative;}#sk-container-id-5 div.sk-item::before, #sk-container-id-5 div.sk-parallel-item::before {content: \"\";position: absolute;border-left: 1px solid gray;box-sizing: border-box;top: 0;bottom: 0;left: 50%;z-index: -1;}#sk-container-id-5 div.sk-parallel-item {display: flex;flex-direction: column;z-index: 1;position: relative;background-color: white;}#sk-container-id-5 div.sk-parallel-item:first-child::after {align-self: flex-end;width: 50%;}#sk-container-id-5 div.sk-parallel-item:last-child::after {align-self: flex-start;width: 50%;}#sk-container-id-5 div.sk-parallel-item:only-child::after {width: 0;}#sk-container-id-5 div.sk-dashed-wrapped {border: 1px dashed gray;margin: 0 0.4em 0.5em 0.4em;box-sizing: border-box;padding-bottom: 0.4em;background-color: white;}#sk-container-id-5 div.sk-label label {font-family: monospace;font-weight: bold;display: inline-block;line-height: 1.2em;}#sk-container-id-5 div.sk-label-container {text-align: center;}#sk-container-id-5 div.sk-container {/* jupyter's `normalize.less` sets `[hidden] { display: none; }` but bootstrap.min.css set `[hidden] { display: none !important; }` so we also need the `!important` here to be able to override the default hidden behavior on the sphinx rendered scikit-learn.org. See: https://github.com/scikit-learn/scikit-learn/issues/21755 */display: inline-block !important;position: relative;}#sk-container-id-5 div.sk-text-repr-fallback {display: none;}</style><div id=\"sk-container-id-5\" class=\"sk-top-container\"><div class=\"sk-text-repr-fallback\"><pre>LinearRegression(normalize=True)</pre><b>In a Jupyter environment, please rerun this cell to show the HTML representation or trust the notebook. <br />On GitHub, the HTML representation is unable to render, please try loading this page with nbviewer.org.</b></div><div class=\"sk-container\" hidden><div class=\"sk-item\"><div class=\"sk-estimator sk-toggleable\"><input class=\"sk-toggleable__control sk-hidden--visually\" id=\"sk-estimator-id-5\" type=\"checkbox\" checked><label for=\"sk-estimator-id-5\" class=\"sk-toggleable__label sk-toggleable__label-arrow\">LinearRegression</label><div class=\"sk-toggleable__content\"><pre>LinearRegression(normalize=True)</pre></div></div></div></div></div>"
     },
     "execution_count": 72,
     "metadata": {},
     "output_type": "execute_result"
    }
   ],
   "source": [
    "model_ols =  linear_model.LinearRegression(normalize=True)\n",
    "model_ols.fit(X_train,y_train)\n",
    "#model_ols.fit(X,y)\n",
    "# fit() method is used for training the model\n",
    "# Note the first parameter(feature) is must be 2D array(feature matrix)\n"
   ],
   "metadata": {
    "collapsed": false,
    "pycharm": {
     "name": "#%%\n"
    }
   }
  },
  {
   "cell_type": "code",
   "execution_count": 73,
   "outputs": [],
   "source": [
    "#LinearRegression(copy_X=True, fit_intercept=True, n_jobs=None, normalize=True)"
   ],
   "metadata": {
    "collapsed": false,
    "pycharm": {
     "name": "#%%\n"
    }
   }
  },
  {
   "cell_type": "code",
   "execution_count": 74,
   "outputs": [
    {
     "name": "stdout",
     "output_type": "stream",
     "text": [
      "coef=  [     0.         -40958.82754695 -22561.16366928     72.06571603\n",
      "   6955.84369752 -23734.18189541]\n",
      "intercept=  2993755.7058388614\n"
     ]
    }
   ],
   "source": [
    "coef = model_ols.coef_\n",
    "intercept = model_ols.intercept_\n",
    "print('coef= ', coef)\n",
    "print('intercept= ', intercept)\n"
   ],
   "metadata": {
    "collapsed": false,
    "pycharm": {
     "name": "#%%\n"
    }
   }
  },
  {
   "cell_type": "code",
   "execution_count": 75,
   "outputs": [
    {
     "name": "stdout",
     "output_type": "stream",
     "text": [
      "     Predicted Price\n",
      "0      116814.497996\n",
      "1       94241.481127\n",
      "2       24995.746056\n",
      "3       31097.513357\n",
      "4      142322.287359\n",
      "..               ...\n",
      "106      4096.197967\n",
      "107     17750.313843\n",
      "108      5537.512287\n",
      "109     22561.976550\n",
      "110    110115.823579\n",
      "\n",
      "[111 rows x 1 columns]\n",
      "            0\n",
      "0    100000.0\n",
      "1     75000.0\n",
      "2     35000.0\n",
      "3     20000.0\n",
      "4    200000.0\n",
      "..        ...\n",
      "106   12500.0\n",
      "107   35000.0\n",
      "108   10000.0\n",
      "109   20000.0\n",
      "110   65000.0\n",
      "\n",
      "[111 rows x 1 columns]\n"
     ]
    }
   ],
   "source": [
    "predicted_rent = pd.DataFrame(model_ols.predict(X_test), columns=['Predicted Price'])\n",
    "actual_rent = pd.DataFrame(y_test)\n",
    "print(predicted_rent)\n",
    "print(actual_rent)"
   ],
   "metadata": {
    "collapsed": false,
    "pycharm": {
     "name": "#%%\n"
    }
   }
  },
  {
   "cell_type": "code",
   "execution_count": 76,
   "outputs": [
    {
     "data": {
      "text/plain": "                           0             1             2             3    \\\nActual Price     100000.000000  75000.000000  35000.000000  20000.000000   \nPredicted Price  116814.497996  94241.481127  24995.746056  31097.513357   \n\n                           4              5             6             7    \\\nActual Price     200000.000000  104000.000000  20000.000000  28000.000000   \nPredicted Price  142322.287359   63300.727628  29616.506079  22899.251616   \n\n                          8            9    ...           101           102  \\\nActual Price     11000.000000  15000.00000  ...  23000.000000  25000.000000   \nPredicted Price  -6259.665924  14935.52102  ...  59292.345566  30869.569193   \n\n                           103           104           105           106  \\\nActual Price     405000.000000  75000.000000  30000.000000  12500.000000   \nPredicted Price  620860.757545  94241.481127  13082.018249   4096.197967   \n\n                          107           108          109            110  \nActual Price     35000.000000  10000.000000  20000.00000   65000.000000  \nPredicted Price  17750.313843   5537.512287  22561.97655  110115.823579  \n\n[2 rows x 111 columns]",
      "text/html": "<div>\n<style scoped>\n    .dataframe tbody tr th:only-of-type {\n        vertical-align: middle;\n    }\n\n    .dataframe tbody tr th {\n        vertical-align: top;\n    }\n\n    .dataframe thead th {\n        text-align: right;\n    }\n</style>\n<table border=\"1\" class=\"dataframe\">\n  <thead>\n    <tr style=\"text-align: right;\">\n      <th></th>\n      <th>0</th>\n      <th>1</th>\n      <th>2</th>\n      <th>3</th>\n      <th>4</th>\n      <th>5</th>\n      <th>6</th>\n      <th>7</th>\n      <th>8</th>\n      <th>9</th>\n      <th>...</th>\n      <th>101</th>\n      <th>102</th>\n      <th>103</th>\n      <th>104</th>\n      <th>105</th>\n      <th>106</th>\n      <th>107</th>\n      <th>108</th>\n      <th>109</th>\n      <th>110</th>\n    </tr>\n  </thead>\n  <tbody>\n    <tr>\n      <th>Actual Price</th>\n      <td>100000.000000</td>\n      <td>75000.000000</td>\n      <td>35000.000000</td>\n      <td>20000.000000</td>\n      <td>200000.000000</td>\n      <td>104000.000000</td>\n      <td>20000.000000</td>\n      <td>28000.000000</td>\n      <td>11000.000000</td>\n      <td>15000.00000</td>\n      <td>...</td>\n      <td>23000.000000</td>\n      <td>25000.000000</td>\n      <td>405000.000000</td>\n      <td>75000.000000</td>\n      <td>30000.000000</td>\n      <td>12500.000000</td>\n      <td>35000.000000</td>\n      <td>10000.000000</td>\n      <td>20000.00000</td>\n      <td>65000.000000</td>\n    </tr>\n    <tr>\n      <th>Predicted Price</th>\n      <td>116814.497996</td>\n      <td>94241.481127</td>\n      <td>24995.746056</td>\n      <td>31097.513357</td>\n      <td>142322.287359</td>\n      <td>63300.727628</td>\n      <td>29616.506079</td>\n      <td>22899.251616</td>\n      <td>-6259.665924</td>\n      <td>14935.52102</td>\n      <td>...</td>\n      <td>59292.345566</td>\n      <td>30869.569193</td>\n      <td>620860.757545</td>\n      <td>94241.481127</td>\n      <td>13082.018249</td>\n      <td>4096.197967</td>\n      <td>17750.313843</td>\n      <td>5537.512287</td>\n      <td>22561.97655</td>\n      <td>110115.823579</td>\n    </tr>\n  </tbody>\n</table>\n<p>2 rows × 111 columns</p>\n</div>"
     },
     "execution_count": 76,
     "metadata": {},
     "output_type": "execute_result"
    }
   ],
   "source": [
    "predictedPrice = pd.DataFrame(model_ols.predict(X_test), columns=['Predicted Price']) # Create new dataframe of column'Predicted Price'\n",
    "actualPrice = pd.DataFrame(y_test, columns=['Actual Price'])\n",
    "actualPrice = actualPrice.reset_index(drop=True) # Drop the index so that we can concat it, to create new dataframe\n",
    "df_actual_vs_predicted = pd.concat([actualPrice,predictedPrice],axis =1)\n",
    "df_actual_vs_predicted.T"
   ],
   "metadata": {
    "collapsed": false,
    "pycharm": {
     "name": "#%%\n"
    }
   }
  },
  {
   "cell_type": "code",
   "execution_count": 77,
   "outputs": [
    {
     "data": {
      "text/plain": "Text(0.5, 1.0, 'Price From Dataset Vs Price Predicted By Model')"
     },
     "execution_count": 77,
     "metadata": {},
     "output_type": "execute_result"
    },
    {
     "data": {
      "text/plain": "<Figure size 1000x600 with 1 Axes>",
      "image/png": "[encoded data removed]"
     },
     "metadata": {},
     "output_type": "display_data"
    }
   ],
   "source": [
    "plt.scatter(y_test, model_ols.predict(X_test))\n",
    "plt.xlabel('Price From Dataset')\n",
    "plt.ylabel('Price Predicted By Model')\n",
    "plt.rcParams[\"figure.figsize\"] = (10,6) # Custom figure size in inches\n",
    "plt.title(\"Price From Dataset Vs Price Predicted By Model\")"
   ],
   "metadata": {
    "collapsed": false,
    "pycharm": {
     "name": "#%%\n"
    }
   }
  },
  {
   "cell_type": "code",
   "execution_count": 78,
   "outputs": [
    {
     "name": "stdout",
     "output_type": "stream",
     "text": [
      "Mean absolute error = 19136.61\n",
      "Mean squared error = 1005465705.8\n",
      "Median absolute error = 11863.62\n",
      "Explain variance score = 0.54\n",
      "R2 score = 0.53\n",
      "[ 1.16814498e+05  9.42414811e+04  2.49957461e+04  3.10975134e+04\n",
      "  1.42322287e+05  6.33007276e+04  2.96165061e+04  2.28992516e+04\n",
      " -6.25966592e+03  1.49355210e+04  2.05715228e+04  1.06525732e+04\n",
      "  1.75168262e+04  2.13627046e+04  8.41215888e+03  5.25995978e+03\n",
      " -7.16512561e+03  2.52923376e+04  9.72581639e+04 -1.57019237e+03\n",
      "  3.94088893e+04  1.93633451e+04  1.84893743e+04  3.78702852e+04\n",
      "  4.93200362e+04 -6.98592623e+03  8.43849258e+04  1.63373770e+04\n",
      "  2.24099345e+04  8.41394681e+04  5.70962615e+04  8.14883334e+03\n",
      "  3.31767822e+04  1.07158894e+04  1.26099970e+05  1.37813818e+04\n",
      "  9.30328117e+04  1.67599399e+04  7.84164450e+04  4.64788851e+04\n",
      "  2.25169670e+04  1.45119934e+05  1.38712302e+04  2.18207535e+04\n",
      " -5.50832704e+03  2.79207485e+03  1.29225256e+05  1.07610024e+04\n",
      "  5.10020515e+04  4.68245609e+04  9.91036008e+04  1.27909144e+05\n",
      "  2.06532739e+04  1.00270639e+04  1.15426507e+04  1.07758819e+04\n",
      "  1.00036160e+05  2.33944701e+03  9.42585204e+04  2.11241834e+05\n",
      "  8.61111564e+03 -7.60134500e+03  7.70716970e+04  6.92096402e+04\n",
      "  2.04313875e+04  1.01385819e+05  7.16729538e+04  7.01037891e+04\n",
      "  2.74951615e+04  1.95519655e+04  7.90152774e+04  9.15052745e+03\n",
      "  7.34514703e+03  2.49659904e+04  4.09209524e+04  1.60307761e+04\n",
      "  8.93757458e+03  2.70897559e+04  6.18803492e+04  1.90504990e+04\n",
      " -6.98592623e+03  3.39877279e+04  2.69736374e+04  2.45393739e+04\n",
      "  5.63637924e+03  6.38974384e+04  1.25432910e+04  3.54192578e+04\n",
      "  5.63637924e+03  1.51046770e+04  3.87985914e+04  9.46758098e+04\n",
      "  9.46905679e+02  2.02014255e+04  5.05559365e+04  6.63760839e+04\n",
      "  5.69275182e+02  3.54576644e+04 -4.13535145e+03  2.12876133e+04\n",
      "  4.55019148e+03  5.92923456e+04  3.08695692e+04  6.20860758e+05\n",
      "  9.42414811e+04  1.30820182e+04  4.09619797e+03  1.77503138e+04\n",
      "  5.53751229e+03  2.25619766e+04  1.10115824e+05]\n"
     ]
    }
   ],
   "source": [
    "import sklearn.metrics as sm\n",
    "y_test_pred = model_ols.predict(X_test)\n",
    "print(\"Mean absolute error =\", round(sm.mean_absolute_error(y_test, y_test_pred), 2))\n",
    "print(\"Mean squared error =\", round(sm.mean_squared_error(y_test, y_test_pred), 2))\n",
    "print(\"Median absolute error =\", round(sm.median_absolute_error(y_test, y_test_pred), 2))\n",
    "print(\"Explain variance score =\", round(sm.explained_variance_score(y_test, y_test_pred), 2))\n",
    "print(\"R2 score =\", round(sm.r2_score(y_test, y_test_pred), 2))\n",
    "#print(model_ols.predict(X_test))"
   ],
   "metadata": {
    "collapsed": false,
    "pycharm": {
     "name": "#%%\n"
    }
   }
  },
  {
   "cell_type": "code",
   "execution_count": 79,
   "outputs": [
    {
     "name": "stdout",
     "output_type": "stream",
     "text": [
      "Feature to predict:  [[2.0, 24.782145, 80.415916, 3980.0, 4.0, 6.0]]\n",
      "predicted value:  [336671.29327873]\n"
     ]
    }
   ],
   "source": [
    "# test model with a random feature list\n",
    "feature_to_predict = [[2.00000000e+00, 2.47821450e+01, 8.04159160e+01, 3.98000000e+03,\n",
    "  4.00000000e+00, 6.00000000e+00]]\n",
    "print(\"Feature to predict: \", feature_to_predict)\n",
    "print(\"predicted value: \",model_ols.predict(feature_to_predict))"
   ],
   "metadata": {
    "collapsed": false,
    "pycharm": {
     "name": "#%%\n"
    }
   }
  },
  {
   "cell_type": "code",
   "execution_count": 80,
   "outputs": [
    {
     "name": "stdout",
     "output_type": "stream",
     "text": [
      "Dimension of dataset=  (100, 7)\n"
     ]
    },
    {
     "data": {
      "text/plain": "   Type        Lat        Lon  Floor Size(SQFT)  Number of Rooms  \\\n0     1  23.874777  90.388188               900                2   \n1     1  23.874777  90.388188               900                2   \n2     1  23.871732  90.397145              1610                3   \n3     1  23.874777  90.388188               950                2   \n4     1  23.822702  90.442058              1250                3   \n\n   Number of Bathroom  Amount(BDT)  \n0                   2        19000  \n1                   2        19000  \n2                   4        50000  \n3                   2        20000  \n4                   3        20000  ",
      "text/html": "<div>\n<style scoped>\n    .dataframe tbody tr th:only-of-type {\n        vertical-align: middle;\n    }\n\n    .dataframe tbody tr th {\n        vertical-align: top;\n    }\n\n    .dataframe thead th {\n        text-align: right;\n    }\n</style>\n<table border=\"1\" class=\"dataframe\">\n  <thead>\n    <tr style=\"text-align: right;\">\n      <th></th>\n      <th>Type</th>\n      <th>Lat</th>\n      <th>Lon</th>\n      <th>Floor Size(SQFT)</th>\n      <th>Number of Rooms</th>\n      <th>Number of Bathroom</th>\n      <th>Amount(BDT)</th>\n    </tr>\n  </thead>\n  <tbody>\n    <tr>\n      <th>0</th>\n      <td>1</td>\n      <td>23.874777</td>\n      <td>90.388188</td>\n      <td>900</td>\n      <td>2</td>\n      <td>2</td>\n      <td>19000</td>\n    </tr>\n    <tr>\n      <th>1</th>\n      <td>1</td>\n      <td>23.874777</td>\n      <td>90.388188</td>\n      <td>900</td>\n      <td>2</td>\n      <td>2</td>\n      <td>19000</td>\n    </tr>\n    <tr>\n      <th>2</th>\n      <td>1</td>\n      <td>23.871732</td>\n      <td>90.397145</td>\n      <td>1610</td>\n      <td>3</td>\n      <td>4</td>\n      <td>50000</td>\n    </tr>\n    <tr>\n      <th>3</th>\n      <td>1</td>\n      <td>23.874777</td>\n      <td>90.388188</td>\n      <td>950</td>\n      <td>2</td>\n      <td>2</td>\n      <td>20000</td>\n    </tr>\n    <tr>\n      <th>4</th>\n      <td>1</td>\n      <td>23.822702</td>\n      <td>90.442058</td>\n      <td>1250</td>\n      <td>3</td>\n      <td>3</td>\n      <td>20000</td>\n    </tr>\n  </tbody>\n</table>\n</div>"
     },
     "execution_count": 80,
     "metadata": {},
     "output_type": "execute_result"
    }
   ],
   "source": [
    "df = pd.read_csv('test_ml_dataset.csv')\n",
    "print('Dimension of dataset= ', df.shape)\n",
    "df.head() # To get first n rows from the dataset default value of n is 5"
   ],
   "metadata": {
    "collapsed": false,
    "pycharm": {
     "name": "#%%\n"
    }
   }
  },
  {
   "cell_type": "code",
   "execution_count": 81,
   "outputs": [
    {
     "data": {
      "text/plain": "                         0            1             2             3   \\\nActual Rent     19000.00000  19000.00000  50000.000000  20000.000000   \nPredicted Rent   7912.59677   7912.59677  18489.374347  11515.882572   \n\n                          4             5             6             7   \\\nActual Rent     20000.000000  30000.000000  40000.000000  24000.000000   \nPredicted Rent  17274.820241  54301.360776  18174.122767  42401.877209   \n\n                          8             9   ...            90            91  \\\nActual Rent     30000.000000  11000.000000  ...  30000.000000  50000.000000   \nPredicted Rent  48786.831399   4441.948023  ...  56092.569805  16521.327967   \n\n                          92            93            94            95  \\\nActual Rent     30000.000000  19000.000000  30000.000000  15000.000000   \nPredicted Rent  86905.739098  20780.017813  29701.504926   8611.115639   \n\n                          96            97            98            99  \nActual Rent     35000.000000  25000.000000  25000.000000  50000.000000  \nPredicted Rent  21362.704579  27294.168533  34373.688192  46478.885132  \n\n[2 rows x 100 columns]",
      "text/html": "<div>\n<style scoped>\n    .dataframe tbody tr th:only-of-type {\n        vertical-align: middle;\n    }\n\n    .dataframe tbody tr th {\n        vertical-align: top;\n    }\n\n    .dataframe thead th {\n        text-align: right;\n    }\n</style>\n<table border=\"1\" class=\"dataframe\">\n  <thead>\n    <tr style=\"text-align: right;\">\n      <th></th>\n      <th>0</th>\n      <th>1</th>\n      <th>2</th>\n      <th>3</th>\n      <th>4</th>\n      <th>5</th>\n      <th>6</th>\n      <th>7</th>\n      <th>8</th>\n      <th>9</th>\n      <th>...</th>\n      <th>90</th>\n      <th>91</th>\n      <th>92</th>\n      <th>93</th>\n      <th>94</th>\n      <th>95</th>\n      <th>96</th>\n      <th>97</th>\n      <th>98</th>\n      <th>99</th>\n    </tr>\n  </thead>\n  <tbody>\n    <tr>\n      <th>Actual Rent</th>\n      <td>19000.00000</td>\n      <td>19000.00000</td>\n      <td>50000.000000</td>\n      <td>20000.000000</td>\n      <td>20000.000000</td>\n      <td>30000.000000</td>\n      <td>40000.000000</td>\n      <td>24000.000000</td>\n      <td>30000.000000</td>\n      <td>11000.000000</td>\n      <td>...</td>\n      <td>30000.000000</td>\n      <td>50000.000000</td>\n      <td>30000.000000</td>\n      <td>19000.000000</td>\n      <td>30000.000000</td>\n      <td>15000.000000</td>\n      <td>35000.000000</td>\n      <td>25000.000000</td>\n      <td>25000.000000</td>\n      <td>50000.000000</td>\n    </tr>\n    <tr>\n      <th>Predicted Rent</th>\n      <td>7912.59677</td>\n      <td>7912.59677</td>\n      <td>18489.374347</td>\n      <td>11515.882572</td>\n      <td>17274.820241</td>\n      <td>54301.360776</td>\n      <td>18174.122767</td>\n      <td>42401.877209</td>\n      <td>48786.831399</td>\n      <td>4441.948023</td>\n      <td>...</td>\n      <td>56092.569805</td>\n      <td>16521.327967</td>\n      <td>86905.739098</td>\n      <td>20780.017813</td>\n      <td>29701.504926</td>\n      <td>8611.115639</td>\n      <td>21362.704579</td>\n      <td>27294.168533</td>\n      <td>34373.688192</td>\n      <td>46478.885132</td>\n    </tr>\n  </tbody>\n</table>\n<p>2 rows × 100 columns</p>\n</div>"
     },
     "execution_count": 81,
     "metadata": {},
     "output_type": "execute_result"
    }
   ],
   "source": [
    "x = df.values[:, 0:6]  # get input values from first two columns\n",
    "y = df.values[:, 6]  # get output values from last coulmn\n",
    "predictedRent = pd.DataFrame(model_ols.predict(x), columns=['Predicted Rent']) # Create new dataframe of column'Predicted Price'\n",
    "actualRent = pd.DataFrame(y, columns=['Actual Rent'])\n",
    "actualRent = actualRent.reset_index(drop=True) # Drop the index so that we can concat it, to create new dataframe\n",
    "df_actual_vs_predicted_rent = pd.concat([actualRent,predictedRent],axis =1)\n",
    "df_actual_vs_predicted_rent.T"
   ],
   "metadata": {
    "collapsed": false,
    "pycharm": {
     "name": "#%%\n"
    }
   }
  },
  {
   "cell_type": "code",
   "execution_count": 81,
   "outputs": [],
   "source": [],
   "metadata": {
    "collapsed": false,
    "pycharm": {
     "name": "#%%\n"
    }
   }
  }
 ],
 "metadata": {
  "kernelspec": {
   "display_name": "Python 3",
   "language": "python",
   "name": "python3"
  },
  "language_info": {
   "codemirror_mode": {
    "name": "ipython",
    "version": 2
   },
   "file_extension": ".py",
   "mimetype": "text/x-python",
   "name": "python",
   "nbconvert_exporter": "python",
   "pygments_lexer": "ipython2",
   "version": "2.7.6"
  }
 },
 "nbformat": 4,
 "nbformat_minor": 0
}
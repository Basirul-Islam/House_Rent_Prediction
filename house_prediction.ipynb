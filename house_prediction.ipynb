{
 "cells": [
  {
   "cell_type": "code",
   "execution_count": 2,
   "metadata": {
    "collapsed": true,
    "pycharm": {
     "name": "#%%\n"
    }
   },
   "outputs": [],
   "source": [
    "import numpy as np\n",
    "import pandas as pd\n",
    "import matplotlib.pyplot as plt\n",
    "from sklearn import linear_model"
   ]
  },
  {
   "cell_type": "code",
   "execution_count": 3,
   "outputs": [
    {
     "name": "stdout",
     "output_type": "stream",
     "text": [
      "Dimension of dataset=  (1105, 7)\n"
     ]
    },
    {
     "data": {
      "text/plain": "   Type        Lat        Lon  Floor Size(SQFT)  Number of Rooms  \\\n0     1  24.782145  80.415916               398                4   \n1     1  23.874777  90.388188               900                2   \n2     1  23.874777  90.388188               900                2   \n3     1  23.871732  90.397145              1610                3   \n4     1  23.874777  90.388188               950                2   \n\n   Number of Bathroom  Amount(BDT)  \n0                   6        80000  \n1                   2        19000  \n2                   2        19000  \n3                   4        50000  \n4                   2        20000  ",
      "text/html": "<div>\n<style scoped>\n    .dataframe tbody tr th:only-of-type {\n        vertical-align: middle;\n    }\n\n    .dataframe tbody tr th {\n        vertical-align: top;\n    }\n\n    .dataframe thead th {\n        text-align: right;\n    }\n</style>\n<table border=\"1\" class=\"dataframe\">\n  <thead>\n    <tr style=\"text-align: right;\">\n      <th></th>\n      <th>Type</th>\n      <th>Lat</th>\n      <th>Lon</th>\n      <th>Floor Size(SQFT)</th>\n      <th>Number of Rooms</th>\n      <th>Number of Bathroom</th>\n      <th>Amount(BDT)</th>\n    </tr>\n  </thead>\n  <tbody>\n    <tr>\n      <th>0</th>\n      <td>1</td>\n      <td>24.782145</td>\n      <td>80.415916</td>\n      <td>398</td>\n      <td>4</td>\n      <td>6</td>\n      <td>80000</td>\n    </tr>\n    <tr>\n      <th>1</th>\n      <td>1</td>\n      <td>23.874777</td>\n      <td>90.388188</td>\n      <td>900</td>\n      <td>2</td>\n      <td>2</td>\n      <td>19000</td>\n    </tr>\n    <tr>\n      <th>2</th>\n      <td>1</td>\n      <td>23.874777</td>\n      <td>90.388188</td>\n      <td>900</td>\n      <td>2</td>\n      <td>2</td>\n      <td>19000</td>\n    </tr>\n    <tr>\n      <th>3</th>\n      <td>1</td>\n      <td>23.871732</td>\n      <td>90.397145</td>\n      <td>1610</td>\n      <td>3</td>\n      <td>4</td>\n      <td>50000</td>\n    </tr>\n    <tr>\n      <th>4</th>\n      <td>1</td>\n      <td>23.874777</td>\n      <td>90.388188</td>\n      <td>950</td>\n      <td>2</td>\n      <td>2</td>\n      <td>20000</td>\n    </tr>\n  </tbody>\n</table>\n</div>"
     },
     "execution_count": 3,
     "metadata": {},
     "output_type": "execute_result"
    }
   ],
   "source": [
    "\n",
    "df = pd.read_csv('processed_ml_dataset.csv')\n",
    "print('Dimension of dataset= ', df.shape)\n",
    "df.head() # To get first n rows from the dataset default value of n is 5"
   ],
   "metadata": {
    "collapsed": false,
    "pycharm": {
     "name": "#%%\n"
    }
   }
  },
  {
   "cell_type": "code",
   "execution_count": 4,
   "outputs": [
    {
     "name": "stdout",
     "output_type": "stream",
     "text": [
      "Total no of training examples (m) = 1105 \n",
      "\n",
      "X = [  1.        24.782145  80.415916 398.         4.         6.      ] , y = 80.415916\n",
      "X = [  1.        23.874777  90.388188 900.         2.         2.      ] , y = 90.388188\n",
      "X = [  1.        23.874777  90.388188 900.         2.         2.      ] , y = 90.388188\n",
      "X = [1.0000000e+00 2.3871732e+01 9.0397145e+01 1.6100000e+03 3.0000000e+00\n",
      " 4.0000000e+00] , y = 90.397145\n",
      "X = [  1.        23.874777  90.388188 950.         2.         2.      ] , y = 90.388188\n"
     ]
    }
   ],
   "source": [
    "X = df.values[:, 0:6]  # get input values from first two columns\n",
    "y = df.values[:, 2]  # get output values from last coulmn\n",
    "m = len(y) # Number of training examples\n",
    "\n",
    "print('Total no of training examples (m) = %s \\n' %(m))\n",
    "\n",
    "# Show only first 5 records\n",
    "for i in range(5):\n",
    "    print('X =', X[i, ], ', y =', y[i])"
   ],
   "metadata": {
    "collapsed": false,
    "pycharm": {
     "name": "#%%\n"
    }
   }
  },
  {
   "cell_type": "code",
   "execution_count": 5,
   "outputs": [],
   "source": [
    "from sklearn.model_selection import train_test_split\n",
    "seed = 77\n",
    "X_train, X_test, y_train, y_test = train_test_split(X, y, test_size=0.10, random_state=seed)"
   ],
   "metadata": {
    "collapsed": false,
    "pycharm": {
     "name": "#%%\n"
    }
   }
  },
  {
   "cell_type": "code",
   "execution_count": 6,
   "outputs": [
    {
     "name": "stderr",
     "output_type": "stream",
     "text": [
      "D:\\Projects\\House_rent_prediction\\venv\\Scripts\\env\\lib\\site-packages\\sklearn\\linear_model\\_base.py:141: FutureWarning: 'normalize' was deprecated in version 1.0 and will be removed in 1.2.\n",
      "If you wish to scale the data, use Pipeline with a StandardScaler in a preprocessing stage. To reproduce the previous behavior:\n",
      "\n",
      "from sklearn.pipeline import make_pipeline\n",
      "\n",
      "model = make_pipeline(StandardScaler(with_mean=False), LinearRegression())\n",
      "\n",
      "If you wish to pass a sample_weight parameter, you need to pass it as a fit parameter to each step of the pipeline as follows:\n",
      "\n",
      "kwargs = {s[0] + '__sample_weight': sample_weight for s in model.steps}\n",
      "model.fit(X, y, **kwargs)\n",
      "\n",
      "\n",
      "  warnings.warn(\n"
     ]
    },
    {
     "data": {
      "text/plain": "LinearRegression(normalize=True)",
      "text/html": "<style>#sk-container-id-1 {color: black;background-color: white;}#sk-container-id-1 pre{padding: 0;}#sk-container-id-1 div.sk-toggleable {background-color: white;}#sk-container-id-1 label.sk-toggleable__label {cursor: pointer;display: block;width: 100%;margin-bottom: 0;padding: 0.3em;box-sizing: border-box;text-align: center;}#sk-container-id-1 label.sk-toggleable__label-arrow:before {content: \"▸\";float: left;margin-right: 0.25em;color: #696969;}#sk-container-id-1 label.sk-toggleable__label-arrow:hover:before {color: black;}#sk-container-id-1 div.sk-estimator:hover label.sk-toggleable__label-arrow:before {color: black;}#sk-container-id-1 div.sk-toggleable__content {max-height: 0;max-width: 0;overflow: hidden;text-align: left;background-color: #f0f8ff;}#sk-container-id-1 div.sk-toggleable__content pre {margin: 0.2em;color: black;border-radius: 0.25em;background-color: #f0f8ff;}#sk-container-id-1 input.sk-toggleable__control:checked~div.sk-toggleable__content {max-height: 200px;max-width: 100%;overflow: auto;}#sk-container-id-1 input.sk-toggleable__control:checked~label.sk-toggleable__label-arrow:before {content: \"▾\";}#sk-container-id-1 div.sk-estimator input.sk-toggleable__control:checked~label.sk-toggleable__label {background-color: #d4ebff;}#sk-container-id-1 div.sk-label input.sk-toggleable__control:checked~label.sk-toggleable__label {background-color: #d4ebff;}#sk-container-id-1 input.sk-hidden--visually {border: 0;clip: rect(1px 1px 1px 1px);clip: rect(1px, 1px, 1px, 1px);height: 1px;margin: -1px;overflow: hidden;padding: 0;position: absolute;width: 1px;}#sk-container-id-1 div.sk-estimator {font-family: monospace;background-color: #f0f8ff;border: 1px dotted black;border-radius: 0.25em;box-sizing: border-box;margin-bottom: 0.5em;}#sk-container-id-1 div.sk-estimator:hover {background-color: #d4ebff;}#sk-container-id-1 div.sk-parallel-item::after {content: \"\";width: 100%;border-bottom: 1px solid gray;flex-grow: 1;}#sk-container-id-1 div.sk-label:hover label.sk-toggleable__label {background-color: #d4ebff;}#sk-container-id-1 div.sk-serial::before {content: \"\";position: absolute;border-left: 1px solid gray;box-sizing: border-box;top: 0;bottom: 0;left: 50%;z-index: 0;}#sk-container-id-1 div.sk-serial {display: flex;flex-direction: column;align-items: center;background-color: white;padding-right: 0.2em;padding-left: 0.2em;position: relative;}#sk-container-id-1 div.sk-item {position: relative;z-index: 1;}#sk-container-id-1 div.sk-parallel {display: flex;align-items: stretch;justify-content: center;background-color: white;position: relative;}#sk-container-id-1 div.sk-item::before, #sk-container-id-1 div.sk-parallel-item::before {content: \"\";position: absolute;border-left: 1px solid gray;box-sizing: border-box;top: 0;bottom: 0;left: 50%;z-index: -1;}#sk-container-id-1 div.sk-parallel-item {display: flex;flex-direction: column;z-index: 1;position: relative;background-color: white;}#sk-container-id-1 div.sk-parallel-item:first-child::after {align-self: flex-end;width: 50%;}#sk-container-id-1 div.sk-parallel-item:last-child::after {align-self: flex-start;width: 50%;}#sk-container-id-1 div.sk-parallel-item:only-child::after {width: 0;}#sk-container-id-1 div.sk-dashed-wrapped {border: 1px dashed gray;margin: 0 0.4em 0.5em 0.4em;box-sizing: border-box;padding-bottom: 0.4em;background-color: white;}#sk-container-id-1 div.sk-label label {font-family: monospace;font-weight: bold;display: inline-block;line-height: 1.2em;}#sk-container-id-1 div.sk-label-container {text-align: center;}#sk-container-id-1 div.sk-container {/* jupyter's `normalize.less` sets `[hidden] { display: none; }` but bootstrap.min.css set `[hidden] { display: none !important; }` so we also need the `!important` here to be able to override the default hidden behavior on the sphinx rendered scikit-learn.org. See: https://github.com/scikit-learn/scikit-learn/issues/21755 */display: inline-block !important;position: relative;}#sk-container-id-1 div.sk-text-repr-fallback {display: none;}</style><div id=\"sk-container-id-1\" class=\"sk-top-container\"><div class=\"sk-text-repr-fallback\"><pre>LinearRegression(normalize=True)</pre><b>In a Jupyter environment, please rerun this cell to show the HTML representation or trust the notebook. <br />On GitHub, the HTML representation is unable to render, please try loading this page with nbviewer.org.</b></div><div class=\"sk-container\" hidden><div class=\"sk-item\"><div class=\"sk-estimator sk-toggleable\"><input class=\"sk-toggleable__control sk-hidden--visually\" id=\"sk-estimator-id-1\" type=\"checkbox\" checked><label for=\"sk-estimator-id-1\" class=\"sk-toggleable__label sk-toggleable__label-arrow\">LinearRegression</label><div class=\"sk-toggleable__content\"><pre>LinearRegression(normalize=True)</pre></div></div></div></div></div>"
     },
     "execution_count": 6,
     "metadata": {},
     "output_type": "execute_result"
    }
   ],
   "source": [
    "model_ols =  linear_model.LinearRegression(normalize=True)\n",
    "model_ols.fit(X_train,y_train)\n",
    "#model_ols.fit(X,y)\n",
    "# fit() method is used for training the model\n",
    "# Note the first parameter(feature) is must be 2D array(feature matrix)\n"
   ],
   "metadata": {
    "collapsed": false,
    "pycharm": {
     "name": "#%%\n"
    }
   }
  },
  {
   "cell_type": "code",
   "execution_count": 7,
   "outputs": [],
   "source": [
    "#LinearRegression(copy_X=True, fit_intercept=True, n_jobs=None, normalize=True)"
   ],
   "metadata": {
    "collapsed": false,
    "pycharm": {
     "name": "#%%\n"
    }
   }
  },
  {
   "cell_type": "code",
   "execution_count": 8,
   "outputs": [
    {
     "name": "stdout",
     "output_type": "stream",
     "text": [
      "coef=  [ 0.00000000e+00  1.65044982e-14  1.00000000e+00 -1.03472164e-19\n",
      "  2.48443445e-17 -1.42783434e-16]\n",
      "intercept=  -5.115907697472721e-13\n"
     ]
    }
   ],
   "source": [
    "coef = model_ols.coef_\n",
    "intercept = model_ols.intercept_\n",
    "print('coef= ', coef)\n",
    "print('intercept= ', intercept)"
   ],
   "metadata": {
    "collapsed": false,
    "pycharm": {
     "name": "#%%\n"
    }
   }
  },
  {
   "cell_type": "code",
   "execution_count": 9,
   "outputs": [
    {
     "data": {
      "text/plain": "                       0          1          2          3          4    \\\nActual Price     90.415916  90.419844  90.387987  90.347604  90.419844   \nPredicted Price  90.415916  90.419844  90.387987  90.347604  90.419844   \n\n                       5          6          7          8          9    ...  \\\nActual Price     90.419844  90.371518  90.371989  90.372253  90.393137  ...   \nPredicted Price  90.419844  90.371518  90.371989  90.372253  90.393137  ...   \n\n                       101        102        103        104        105  \\\nActual Price     90.442878  90.387723  90.397145  90.419844  90.390566   \nPredicted Price  90.442878  90.387723  90.397145  90.419844  90.390566   \n\n                       106        107        108        109        110  \nActual Price     90.371518  90.411376  90.371518  90.385814  90.433234  \nPredicted Price  90.371518  90.411376  90.371518  90.385814  90.433234  \n\n[2 rows x 111 columns]",
      "text/html": "<div>\n<style scoped>\n    .dataframe tbody tr th:only-of-type {\n        vertical-align: middle;\n    }\n\n    .dataframe tbody tr th {\n        vertical-align: top;\n    }\n\n    .dataframe thead th {\n        text-align: right;\n    }\n</style>\n<table border=\"1\" class=\"dataframe\">\n  <thead>\n    <tr style=\"text-align: right;\">\n      <th></th>\n      <th>0</th>\n      <th>1</th>\n      <th>2</th>\n      <th>3</th>\n      <th>4</th>\n      <th>5</th>\n      <th>6</th>\n      <th>7</th>\n      <th>8</th>\n      <th>9</th>\n      <th>...</th>\n      <th>101</th>\n      <th>102</th>\n      <th>103</th>\n      <th>104</th>\n      <th>105</th>\n      <th>106</th>\n      <th>107</th>\n      <th>108</th>\n      <th>109</th>\n      <th>110</th>\n    </tr>\n  </thead>\n  <tbody>\n    <tr>\n      <th>Actual Price</th>\n      <td>90.415916</td>\n      <td>90.419844</td>\n      <td>90.387987</td>\n      <td>90.347604</td>\n      <td>90.419844</td>\n      <td>90.419844</td>\n      <td>90.371518</td>\n      <td>90.371989</td>\n      <td>90.372253</td>\n      <td>90.393137</td>\n      <td>...</td>\n      <td>90.442878</td>\n      <td>90.387723</td>\n      <td>90.397145</td>\n      <td>90.419844</td>\n      <td>90.390566</td>\n      <td>90.371518</td>\n      <td>90.411376</td>\n      <td>90.371518</td>\n      <td>90.385814</td>\n      <td>90.433234</td>\n    </tr>\n    <tr>\n      <th>Predicted Price</th>\n      <td>90.415916</td>\n      <td>90.419844</td>\n      <td>90.387987</td>\n      <td>90.347604</td>\n      <td>90.419844</td>\n      <td>90.419844</td>\n      <td>90.371518</td>\n      <td>90.371989</td>\n      <td>90.372253</td>\n      <td>90.393137</td>\n      <td>...</td>\n      <td>90.442878</td>\n      <td>90.387723</td>\n      <td>90.397145</td>\n      <td>90.419844</td>\n      <td>90.390566</td>\n      <td>90.371518</td>\n      <td>90.411376</td>\n      <td>90.371518</td>\n      <td>90.385814</td>\n      <td>90.433234</td>\n    </tr>\n  </tbody>\n</table>\n<p>2 rows × 111 columns</p>\n</div>"
     },
     "execution_count": 9,
     "metadata": {},
     "output_type": "execute_result"
    }
   ],
   "source": [
    "predictedPrice = pd.DataFrame(model_ols.predict(X_test), columns=['Predicted Price']) # Create new dataframe of column'Predicted Price'\n",
    "actualPrice = pd.DataFrame(y_test, columns=['Actual Price'])\n",
    "actualPrice = actualPrice.reset_index(drop=True) # Drop the index so that we can concat it, to create new dataframe\n",
    "df_actual_vs_predicted = pd.concat([actualPrice,predictedPrice],axis =1)\n",
    "df_actual_vs_predicted.T"
   ],
   "metadata": {
    "collapsed": false,
    "pycharm": {
     "name": "#%%\n"
    }
   }
  },
  {
   "cell_type": "code",
   "execution_count": 10,
   "outputs": [
    {
     "data": {
      "text/plain": "Text(0.5, 1.0, 'Price From Dataset Vs Price Predicted By Model')"
     },
     "execution_count": 10,
     "metadata": {},
     "output_type": "execute_result"
    },
    {
     "data": {
      "text/plain": "<Figure size 640x480 with 1 Axes>",
      "image/png": "[encoded data removed]"
     },
     "metadata": {},
     "output_type": "display_data"
    }
   ],
   "source": [
    "plt.scatter(y_test, model_ols.predict(X_test))\n",
    "plt.xlabel('Price From Dataset')\n",
    "plt.ylabel('Price Predicted By Model')\n",
    "plt.rcParams[\"figure.figsize\"] = (10,6) # Custom figure size in inches\n",
    "plt.title(\"Price From Dataset Vs Price Predicted By Model\")"
   ],
   "metadata": {
    "collapsed": false,
    "pycharm": {
     "name": "#%%\n"
    }
   }
  },
  {
   "cell_type": "code",
   "execution_count": 14,
   "outputs": [
    {
     "name": "stdout",
     "output_type": "stream",
     "text": [
      "Mean absolute error = 0.0\n",
      "Mean squared error = 0.0\n",
      "Median absolute error = 0.0\n",
      "Explain variance score = 1.0\n",
      "R2 score = 1.0\n",
      "[90.415916   90.419844   90.387987   90.347604   90.419844   90.419844\n",
      " 90.371518   90.371989   90.372253   90.393137   90.41422    90.367211\n",
      " 90.352794   90.432902   90.364187   90.3850278  90.371989   90.389312\n",
      " 90.400296   90.356001   90.387987   90.423114   90.397145   90.365664\n",
      " 90.414203   90.364284   90.415916   90.429871   90.371518   90.427297\n",
      " 90.389312   90.385814   90.442058   90.347604   90.365737   90.418059\n",
      " 90.415916   90.366118   90.415916   90.403087   90.43861    90.414203\n",
      " 90.372253   90.433325   90.424109   90.444809   90.41282206 90.39841137\n",
      " 90.419844   90.380301   90.39841137 90.419844   90.393137   90.388188\n",
      " 90.3850278  90.381654   90.415916   90.35055    90.422618   90.427297\n",
      " 90.3844492  90.362106   90.401712   90.442058   90.412525   90.373744\n",
      " 90.379163   90.397145   90.390566   90.40844    90.432902   90.387467\n",
      " 90.41791    90.432902   90.40844    90.38279    90.371518   90.397145\n",
      " 90.432913   90.390566   90.364284   90.389312   90.403087   90.387723\n",
      " 90.356001   90.408333   90.418059   90.432913   90.356001   90.385814\n",
      " 90.438958   90.397145   90.372253   90.372253   90.366149   90.381654\n",
      " 90.372445   90.426849   90.388188   90.356001   90.372253   90.442878\n",
      " 90.387723   90.397145   90.419844   90.390566   90.371518   90.411376\n",
      " 90.371518   90.385814   90.433234  ]\n"
     ]
    }
   ],
   "source": [
    "import sklearn.metrics as sm\n",
    "y_test_pred = model_ols.predict(X_test)\n",
    "print(\"Mean absolute error =\", round(sm.mean_absolute_error(y_test, y_test_pred), 2))\n",
    "print(\"Mean squared error =\", round(sm.mean_squared_error(y_test, y_test_pred), 2))\n",
    "print(\"Median absolute error =\", round(sm.median_absolute_error(y_test, y_test_pred), 2))\n",
    "print(\"Explain variance score =\", round(sm.explained_variance_score(y_test, y_test_pred), 2))\n",
    "print(\"R2 score =\", round(sm.r2_score(y_test, y_test_pred), 2))\n",
    "print(model_ols.predict(X_test))"
   ],
   "metadata": {
    "collapsed": false,
    "pycharm": {
     "name": "#%%\n"
    }
   }
  },
  {
   "cell_type": "code",
   "execution_count": 12,
   "outputs": [
    {
     "name": "stdout",
     "output_type": "stream",
     "text": [
      "Feature to predict:  [[2.0, 24.782145, 80.415916, 3980.0, 4.0, 6.0]]\n",
      "predicted value:  [80.415916]\n"
     ]
    }
   ],
   "source": [
    "# test model with a random feature list\n",
    "feature_to_predict = [[2.00000000e+00, 2.47821450e+01, 8.04159160e+01, 3.98000000e+03,\n",
    "  4.00000000e+00, 6.00000000e+00]]\n",
    "print(\"Feature to predict: \", feature_to_predict)\n",
    "print(\"predicted value: \",model_ols.predict(feature_to_predict))"
   ],
   "metadata": {
    "collapsed": false,
    "pycharm": {
     "name": "#%%\n"
    }
   }
  },
  {
   "cell_type": "code",
   "execution_count": 12,
   "outputs": [],
   "source": [],
   "metadata": {
    "collapsed": false,
    "pycharm": {
     "name": "#%%\n"
    }
   }
  }
 ],
 "metadata": {
  "kernelspec": {
   "display_name": "Python 3",
   "language": "python",
   "name": "python3"
  },
  "language_info": {
   "codemirror_mode": {
    "name": "ipython",
    "version": 2
   },
   "file_extension": ".py",
   "mimetype": "text/x-python",
   "name": "python",
   "nbconvert_exporter": "python",
   "pygments_lexer": "ipython2",
   "version": "2.7.6"
  }
 },
 "nbformat": 4,
 "nbformat_minor": 0
}